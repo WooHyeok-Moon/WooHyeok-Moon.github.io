{
 "cells": [
  {
   "cell_type": "markdown",
   "id": "aaace02f-d60e-4c7c-bf25-de0f3a3a2bd4",
   "metadata": {
    "tags": []
   },
   "source": [
    "---\n",
    "author: \"Woohyeok Moon\"\n",
    "date: 2024-03-26\n",
    "title: 랜덤 프로세스 내용\n",
    "categories: 랜덤 프로세스\n",
    "tags: [랜덤 프로세스]\n",
    "showtoc: false\n",
    "weight: 10\n",
    "---"
   ]
  },
  {
   "cell_type": "markdown",
   "id": "b9037240-d6c6-4b01-9790-0d0b046eb3b8",
   "metadata": {},
   "source": [
    "## Lecture 1\n",
    "- Relative Frequency Interpretation\n",
    "- Set Theory\n",
    "- Applying Set Theory to Probability\n",
    "- Probability Axioms"
   ]
  },
  {
   "cell_type": "markdown",
   "id": "04b3215d-5ed2-4149-86aa-035e2488d38e",
   "metadata": {},
   "source": [
    "## Lecture 2\n",
    "- Conditional Probability\n",
    "- Law of Total Probability\n",
    "- Bayes Theorem\n",
    "- Statistical Independence\n",
    "- Bernoulli Trials\n",
    "- Reliability Problems"
   ]
  },
  {
   "cell_type": "markdown",
   "id": "227f9e81-49ab-42e9-bbc3-db7bc451dd51",
   "metadata": {},
   "source": [
    "## Lecture 3\n",
    "\n",
    "- Bernulli trials, Binomial, and Poisson law\n",
    "- De Moivre-Laplace Theorem\n",
    "- Probability Review Summary"
   ]
  },
  {
   "cell_type": "markdown",
   "id": "6e8a8883-b7ad-4242-8b6c-b358a6543c08",
   "metadata": {},
   "source": [
    "## Lecture 4\n",
    "- Definitions of Random Variable\n",
    "- Examples of Random Variable\n",
    "- Cumulative Distribution Function\n",
    "- Probability Density Function\n",
    "- Probability Mass Function\n",
    "- Continuous-Type Random Variables\n",
    "- Discrete-Type Random Variables"
   ]
  },
  {
   "cell_type": "markdown",
   "id": "25d41047-983a-48cd-86fe-33032fa9d2e5",
   "metadata": {},
   "source": [
    "## Lecture 5\n",
    "- Two Random Variables\n",
    "- Random Vector\n",
    "- Complex Random Variable\n",
    "- Conditional Distributions/Densities\n",
    "- Independence of Random Variables\n",
    "- Functions of Random Variables\n",
    "- Functions of Random Vectors"
   ]
  },
  {
   "cell_type": "markdown",
   "id": "a9fa194d-8cfb-4a04-b781-1bed7dfcee1a",
   "metadata": {},
   "source": [
    "## Lecture 6\n",
    "- Expected Value of a Random Variable\n",
    "- Moments of Random Variable\n",
    "- Uncorrelated and Orthogonal Random Variables\n",
    "- Markov Inequality\n",
    "- Chebyshev (Tschebysheff) Inequality\n",
    "- Moment Generation Function (MGF) and Characteristic Fuction\n",
    "- Characteristic Function for a Random Vector\n",
    "- Characteristic Function Example"
   ]
  },
  {
   "cell_type": "markdown",
   "id": "1752d482-8781-4de7-b135-c06144c3c4e5",
   "metadata": {},
   "source": [
    "## Lecture 7\n",
    "- Conditional Expectation\n",
    "- Application of Expectation-Estimation\n",
    "- Communication Theory Example\n",
    "- Linear minimum mean squared error(LMMSE) estimator\n",
    "- LMMSE Estimator from a Random Vector"
   ]
  },
  {
   "cell_type": "markdown",
   "id": "fa2127cd-96d5-4494-a687-e4c787dd68d8",
   "metadata": {},
   "source": [
    "## Lecture 8\n",
    "- Expected Value Vector and Matrix\n",
    "- Correlation and Covariance Matrix\n",
    "- Cross-correlation and Cross-covariance Matrix\n",
    "- Univariate Normal Random Variable\n",
    "- Bivariate Normal Random Variables\n",
    "- Multivariate Normal Random Variables"
   ]
  },
  {
   "cell_type": "markdown",
   "id": "bc495504-feb9-429a-a9ed-f5c721c3c5c6",
   "metadata": {
    "jp-MarkdownHeadingCollapsed": true
   },
   "source": [
    "## Lecture 9 (pending)"
   ]
  },
  {
   "cell_type": "markdown",
   "id": "4d596832-b2ae-40f9-bf99-cc27e13da2b0",
   "metadata": {},
   "source": [
    "## Lecture 10 (pending)"
   ]
  }
 ],
 "metadata": {
  "kernelspec": {
   "display_name": "Python 3 (ipykernel)",
   "language": "python",
   "name": "python3"
  },
  "language_info": {
   "codemirror_mode": {
    "name": "ipython",
    "version": 3
   },
   "file_extension": ".py",
   "mimetype": "text/x-python",
   "name": "python",
   "nbconvert_exporter": "python",
   "pygments_lexer": "ipython3",
   "version": "3.8.18"
  }
 },
 "nbformat": 4,
 "nbformat_minor": 5
}
