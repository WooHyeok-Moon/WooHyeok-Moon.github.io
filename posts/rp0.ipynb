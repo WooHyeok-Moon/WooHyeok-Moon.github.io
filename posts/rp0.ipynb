{
 "cells": [
  {
   "cell_type": "markdown",
   "id": "aaace02f-d60e-4c7c-bf25-de0f3a3a2bd4",
   "metadata": {
    "tags": []
   },
   "source": [
    "---\n",
    "author: \"Woohyeok Moon\"\n",
    "date: 2024-03-26\n",
    "title: 랜덤 프로세스 내용\n",
    "categories: 랜덤 프로세스\n",
    "tags: [랜덤 프로세스]\n",
    "showtoc: false\n",
    "weight: 10\n",
    "---"
   ]
  },
  {
   "cell_type": "markdown",
   "id": "b9037240-d6c6-4b01-9790-0d0b046eb3b8",
   "metadata": {},
   "source": [
    "## Lecture 1\n",
    "- 상대도수 해석\n",
    "- 집합론\n",
    "- 집합론을 확률에 적용\n",
    "- 확률의 공리"
   ]
  },
  {
   "cell_type": "markdown",
   "id": "04b3215d-5ed2-4149-86aa-035e2488d38e",
   "metadata": {},
   "source": [
    "## Lecture 2\n",
    "- 조건부 확률\n",
    "- 전체 확률의 법칙(전확률 정리)\n",
    "- 베이즈 정리\n",
    "- 통적 독립\n",
    "- 베르누이 시행\n",
    "- 시스템 신뢰도(직렬, 병렬)"
   ]
  },
  {
   "cell_type": "markdown",
   "id": "227f9e81-49ab-42e9-bbc3-db7bc451dd51",
   "metadata": {},
   "source": [
    "## Lecture 3\n",
    "\n",
    "- 베르누이 시행, 이항분포, 포아송 분포의 관계\n",
    "- 드므와브르-라플라스 정리"
   ]
  },
  {
   "cell_type": "markdown",
   "id": "6e8a8883-b7ad-4242-8b6c-b358a6543c08",
   "metadata": {},
   "source": [
    "## Lecture 4\n",
    "- 확률변수의 정의\n",
    "- 확률변수 예시\n",
    "- 누적분포함수\n",
    "- 확률밀도함수\n",
    "- 확률질량함수\n",
    "- 연속확률변수\n",
    "- 이산확률변수"
   ]
  },
  {
   "cell_type": "markdown",
   "id": "25d41047-983a-48cd-86fe-33032fa9d2e5",
   "metadata": {},
   "source": [
    "## Lecture 5\n",
    "- 이변량 확률변수\n",
    "- 확률벡터\n",
    "- 복소수 확률변수\n",
    "- 조건부 확률분포/밀도\n",
    "- 확률변수의 독립\n",
    "- 확률변수의 함수\n",
    "- 확률벡터의 함수"
   ]
  },
  {
   "cell_type": "markdown",
   "id": "a9fa194d-8cfb-4a04-b781-1bed7dfcee1a",
   "metadata": {},
   "source": [
    "## Lecture 6\n",
    "- 확률변수의 기댓값\n",
    "- 확률변수의 적률\n",
    "- 확률변수에서 uncorrelated와 orthogonal의 의미\n",
    "- 마코브 부등식\n",
    "- 체비셰프 부등식\n",
    "- 적률생성함수와 특성함수\n",
    "- 확률벡터의 특성함수\n",
    "- 특성함수 예시"
   ]
  },
  {
   "cell_type": "markdown",
   "id": "1752d482-8781-4de7-b135-c06144c3c4e5",
   "metadata": {},
   "source": [
    "## Lecture 7\n",
    "- 조건부 기댓값\n",
    "- 기댓값 예측의 활용\n",
    "- 통신이론 예시\n",
    "- 선형최소제곱평균오차(LMMSE) 추정\n",
    "- 확률벡터에서의 LMMSE 추정"
   ]
  },
  {
   "cell_type": "markdown",
   "id": "fa2127cd-96d5-4494-a687-e4c787dd68d8",
   "metadata": {},
   "source": [
    "## Lecture 8\n",
    "- 기댓값의 벡터 및 행렬\n",
    "- 상관행렬, 공분산행렬\n",
    "- 교차상관행렬, 교차공분산행렬\n",
    "- 일변량 정규확률변수\n",
    "- 이변량 정규확률변수\n",
    "- 다변량 정규확률변수"
   ]
  },
  {
   "cell_type": "markdown",
   "id": "bc495504-feb9-429a-a9ed-f5c721c3c5c6",
   "metadata": {
    "jp-MarkdownHeadingCollapsed": true
   },
   "source": [
    "## Lecture 9 (pending)"
   ]
  },
  {
   "cell_type": "markdown",
   "id": "4d596832-b2ae-40f9-bf99-cc27e13da2b0",
   "metadata": {},
   "source": [
    "## Lecture 10 (pending)"
   ]
  }
 ],
 "metadata": {
  "kernelspec": {
   "display_name": "Python 3 (ipykernel)",
   "language": "python",
   "name": "python3"
  },
  "language_info": {
   "codemirror_mode": {
    "name": "ipython",
    "version": 3
   },
   "file_extension": ".py",
   "mimetype": "text/x-python",
   "name": "python",
   "nbconvert_exporter": "python",
   "pygments_lexer": "ipython3",
   "version": "3.8.18"
  }
 },
 "nbformat": 4,
 "nbformat_minor": 5
}
