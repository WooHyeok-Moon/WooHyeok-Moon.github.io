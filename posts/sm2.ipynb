{
 "cells": [
  {
   "cell_type": "markdown",
   "id": "ed998587-e1dc-47a4-9c4e-aa075f5d3034",
   "metadata": {
    "tags": []
   },
   "source": [
    "---\n",
    "author: \"Woohyeok Moon\"\n",
    "date: 2024-02-06\n",
    "title: 확률의 정의\n",
    "categories: 수리통계학\n",
    "tags: [확률]\n",
    "showtoc: false\n",
    "weight: 10\n",
    "---"
   ]
  },
  {
   "cell_type": "markdown",
   "id": "a24f00fd-0be6-4b31-b067-aad494edb948",
   "metadata": {},
   "source": [
    "러시아의 수학자 콜모고로프(Andrei Kolmogorov, 1903~1987)는 확률을 공리적으로 정의하고자 하였으며 다음과 같은 공리가 확률을 정의하는 필요충분조건이 됨을 보였다."
   ]
  },
  {
   "cell_type": "markdown",
   "id": "505e9ce6-acfb-4bb3-819b-596a591d4830",
   "metadata": {},
   "source": [
    "### 확률의 공리\n",
    "\n",
    "(1) 임의의 사건 $A$에 대하여 $P(A) \\ge 0$이다.  \n",
    "(2) $P(S) = 1$이다.  \n",
    "(3) 표본공간 $S$에 정의된 사건열 $A_1, A_2, \\cdots$ 가 있다고 하자. 이제 모든 $i \\ne j$에 대하여 $A_i \\cap A_j = \\varnothing$ 이면 $P(\\displaystyle\\bigcup_{i=1}^{\\infty}A_i = \\displaystyle\\sum_{i=1}^{\\infty}P(A_i)$이다."
   ]
  },
  {
   "cell_type": "markdown",
   "id": "12f0e5fd-81c8-4e19-9701-4c5202beefa4",
   "metadata": {},
   "source": [
    "### 정리 1.1\n",
    "두 개의 사건 $A$와 $B$에 대하여 다음과 같은 성질들이 성립한다.  \n",
    "1) $P(A^c) = 1 - P(A)$  \n",
    "2) $P(\\varnothing) = 0$  \n",
    "3) $A \\subset B$이면 $P(A) \\le P(B)$이다.  \n",
    "4) $P(A \\cup B) = P(A) + P(B) - P(A \\cap B)$"
   ]
  },
  {
   "cell_type": "markdown",
   "id": "bc4e3217-d480-48ef-86c9-21ad4b90bf61",
   "metadata": {
    "tags": []
   },
   "source": [
    "### 증명  \n",
    "1) $1 = P(S) = P(A \\cup A^c) = P(A) + P(A_c) (\\because$ 공리 (3))  \n",
    "2) $0 = 1 - P(S) = P(S^c) = P(\\varnothing) (\\because$ 공리 (2)와 (1))  \n",
    "3) $B = A \\cup (B \\cap A^c)$로 나타낼 수 있으며, $A \\cap (B \\cap A^c) = \\varnothing$이므로 공리 (1)과 (3)에 의해\n",
    "$$\n",
    "\\\\\\\n",
    "P(B) = P(A) + P(B \\cap A^c) \\ge P(A)\n",
    "\\\\\\\n",
    "$$\n",
    "가 성립한다.  \n",
    "4) $P(A) = P(A \\cap B^c) + P(A \\cap B), \\quad P(B) = P(B \\cap A^c) + P(A \\cap B)$"
   ]
  },
  {
   "cell_type": "markdown",
   "id": "77e67975-079f-4691-8141-daba893b4e7f",
   "metadata": {},
   "source": [
    "### `예 1.8`\n",
    "[예 1.1](https://woohyeok-moon.github.io/posts/sm1/#%EC%98%88-11)의 실험에서 표본공간 $S$에 속한 8개의 점들이 모두 같은 확률 $\\frac{1}{8}$을 가졌다고 가정하고, 최소한 1개의 앞면이 나오는 사건을 $A$, 꼭 2개의 앞면이 나오는 사건을 $B$, 그리고 첫 번째 동전이 앞면이 나오는 사건을 $C$라고 하자. 그러면, $A$의 여사건은 $A^c = {TTT}$가 되며\n",
    "$$\n",
    "\\begin{align}\n",
    "P(A) = 1 - P(A^c) = 1 - \\frac{1}{8} = \\frac{7}{8}\n",
    "\\end{align}\n",
    "$$\n",
    "이 된다. 또\n",
    "$$\n",
    "\\begin{align}\n",
    "P(B \\cup C) = P(\\{HHH, HHT, HTH, THH, HTT\\}) = \\frac{5}{8}\n",
    "\\end{align}\n",
    "$$\n",
    "인데, 이는\n",
    "$$\n",
    "\\begin{align}\n",
    "\\begin{split}\n",
    "P(\\{HHT, HTH, THH\\}) &+ P(\\{HHH, HHT, HTH, HTT\\})\\\\\\\n",
    "&- P(\\{HHT, HTH\\})\\\\\\\n",
    "&= \\frac{3}{8} + \\frac{4}{8} - \\frac{2}{8} = \\frac{5}{8}\n",
    "\\end{split}\n",
    "\\end{align}\n",
    "$$\n",
    "와 같이 구할 수도 있다."
   ]
  },
  {
   "cell_type": "markdown",
   "id": "204d6d2f-34c8-4bd4-b1e3-56595c8e0d33",
   "metadata": {},
   "source": [
    "### `예 1.9`\n",
    "[예 1.5](https://woohyeok-moon.github.io/posts/sm1/#%EC%98%88-15)의 실험에서 표본공간 $S = \\{1, 2, 3, 4, 5, 6\\}$에 속한 6개의 점들이 모두 같은 확률 $\\frac{1}{6}$을 가졌다고 가정하자. 사건 $A$와 $B$를\n",
    "$$\n",
    "A = \\{2, 4, 6\\} \\qquad B = \\{3, 6\\}\n",
    "$$\n",
    "으로 표현하면, $A \\cap B = \\{6\\}, A \\cup B = \\{2, 3, 4, 6\\}$이 된다. 여기에서\n",
    "$$\n",
    "\\begin{align}\n",
    "P(A \\cup B) &= P(A) + P(B) - P(A \\cap B) \\\\\\\n",
    "&=\\frac{3}{6} + \\frac{2}{6} - \\frac{1}{6} \\\\\\\n",
    "&=\\frac{2}{3}\n",
    "\\end{align}\n",
    "$$\n",
    "와 같음을 알 수 있다."
   ]
  },
  {
   "cell_type": "markdown",
   "id": "e60c7fe5-0da1-40f0-85ca-adc43c1d628c",
   "metadata": {},
   "source": [
    "### `예 1.10`\n",
    "두 사건 $A$와 $B$가 표본공간 $S$에서 정의되어 있는데, 둘 중 적어도 한 사건이 일어날 확률이 0.3이고 $A$만 일어날 확률이 0.1이라고 하자. 이때 $P(A \\cup B) = P(B) + P(A \\cap B^c)$이므로 $P(B) = 0.3 - 0.1 = 0.2$가 된다."
   ]
  },
  {
   "cell_type": "markdown",
   "id": "f2111f61-a3fe-4abe-857e-1769914d7424",
   "metadata": {},
   "source": [
    "### `예 1.11`\n",
    "세 사건 $A, B, C$가 표본공간 $S$에서 정의되어 있을 때, [정리 1.1](#정리-11)의 (4)에 의해\n",
    "$$\n",
    "\\begin{align}\n",
    "P(A \\cup B \\cup C) =& P((A \\cup B) \\cup C) \\\\\\\n",
    "=& P(A \\cup B) + P(C) - P((A \\cup B) \\cap C) \\\\\\\n",
    "=& P(A) + P(B) - P(A \\cap B) + P(C) \\\\\\ \\tag*{} &- P((A \\cap C) \\cup (B \\cap C)) \\\\\\\n",
    "=& P(A) + P(B) + P(C) - P(A \\cap B) - P(A \\cap C) \\\\\\ \\tag*{} &- P(B \\cap C) + P(A \\cap B \\cap C) \\\\\\\n",
    "\\end{align}\n",
    "$$\n",
    "이므로 다음이 성립한다.\n",
    "$$\n",
    "P(A \\cup B \\cup C) = P(A) + P(B) + P(C) - P(A \\cap B) - P(B \\cap C) - P(A \\cap C) + P(A \\cap B \\cap C)\n",
    "$$\n"
   ]
  }
 ],
 "metadata": {
  "kernelspec": {
   "display_name": "Python 3 (ipykernel)",
   "language": "python",
   "name": "python3"
  },
  "language_info": {
   "codemirror_mode": {
    "name": "ipython",
    "version": 3
   },
   "file_extension": ".py",
   "mimetype": "text/x-python",
   "name": "python",
   "nbconvert_exporter": "python",
   "pygments_lexer": "ipython3",
   "version": "3.8.18"
  }
 },
 "nbformat": 4,
 "nbformat_minor": 5
}
