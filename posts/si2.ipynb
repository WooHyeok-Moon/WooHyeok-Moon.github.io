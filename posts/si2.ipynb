{
 "cells": [
  {
   "cell_type": "markdown",
   "id": "2ad696f5-a8ff-4a3c-98f5-de483517dd98",
   "metadata": {
    "tags": []
   },
   "source": [
    "---\n",
    "author: \"Woohyeok Moon\"\n",
    "date: 2024-03-15\n",
    "title: 기초통계\n",
    "categories: 통계 추론 및 환경 빅데이터 분석\n",
    "tags: [summarizing univariate data, measure of location, measure of variability, measures of distribution symmetry, outliers, transformations]\n",
    "showtoc: false\n",
    "weight: 10\n",
    "---"
   ]
  },
  {
   "cell_type": "markdown",
   "id": "f980e7d8-489c-41e3-a0d2-1f42e7fbf5b2",
   "metadata": {},
   "source": [
    "데이터 요약(summarization)은 데이터 volume을 줄이는 효과 뿐 아니라, 복잡한 데이터로부터 패턴, 추세, 이상징후와 같은 insight를 추출해낼 수 있다."
   ]
  },
  {
   "cell_type": "markdown",
   "id": "409fe19e-7816-41ff-9a3d-33af37b5e989",
   "metadata": {},
   "source": [
    "## 1) 대표값, 중심 측도(Measure of Location)"
   ]
  },
  {
   "cell_type": "markdown",
   "id": "6484f0d0-e7e1-47a1-8e76-0c91ac50b338",
   "metadata": {},
   "source": [
    "대표값을 통해 중요한 insight를 얻을 수 있다. 이러한 대표값들은 데이터의 변화, 영향 및 분석 결과를 평가하는 기준을 제공한다."
   ]
  },
  {
   "cell_type": "markdown",
   "id": "a00bd73b-0193-4692-9f60-692acd67f264",
   "metadata": {},
   "source": [
    "### 1.1) 평균(Arithmetic Mean)"
   ]
  },
  {
   "cell_type": "markdown",
   "id": "f22d33a2-17d9-4ce8-9369-d744a802fb23",
   "metadata": {},
   "source": [
    "#### 1.1.1) 정의 및 계산"
   ]
  },
  {
   "cell_type": "markdown",
   "id": "a5126d73-91b1-448a-97a3-8e33e939710d",
   "metadata": {},
   "source": [
    "값들을 모두 더한 뒤 sample 수로 나누어준다."
   ]
  },
  {
   "cell_type": "markdown",
   "id": "ea798e6c-85fe-4189-a4a3-90512972a442",
   "metadata": {},
   "source": [
    "$$\\bar{X} = \\frac{\\sum_{i=1}^{n} X_i}{n}$$"
   ]
  },
  {
   "cell_type": "markdown",
   "id": "8b1f02e9-52b0-4f04-82af-d40faddb2ac7",
   "metadata": {},
   "source": [
    "#### 1.1.2) 그룹화된 데이터"
   ]
  },
  {
   "cell_type": "markdown",
   "id": "d8cf8ae3-50cb-4a88-ad38-44b2300f9860",
   "metadata": {},
   "source": [
    "$k$개의 그룹으로 나뉜 데이터의 전체 평균은, 각 그룹의 평균에 그룹별 sample size만큼 가중치를 주어 계산한다."
   ]
  },
  {
   "cell_type": "markdown",
   "id": "6dee7c19-5006-4619-aa7d-b545f5e8b056",
   "metadata": {},
   "source": [
    "$$\\bar{X} = \\sum_{i=1}^{k} \\bar{X_i} \\frac{n_i}{n}$$"
   ]
  },
  {
   "cell_type": "markdown",
   "id": "f01fe46d-4975-46be-a849-7087ee497b25",
   "metadata": {},
   "source": [
    "위와 같은 응용을 통해 데이터를 더 세밀하게 분석할 수 있다."
   ]
  },
  {
   "cell_type": "markdown",
   "id": "a5e94da8-67af-41b2-9f8d-4e1b497c9961",
   "metadata": {},
   "source": [
    "#### 1.1.3) 개별 관측치의 영향력"
   ]
  },
  {
   "cell_type": "markdown",
   "id": "3ac23889-d29e-4313-b73f-10e9d0e3e420",
   "metadata": {},
   "source": [
    "평균에서는 이상치의 영향력이 매우 크다."
   ]
  },
  {
   "cell_type": "markdown",
   "id": "8f3bed4d-a70a-4f05-8fd7-b0594a336c92",
   "metadata": {},
   "source": [
    "$$\n",
    "\\bar{X} = \\bar{X}\\_{(j)} \\frac{(n-1)}{n} + X_j \\cdot \\frac{1}{n} = \\bar{X}\\_{(j)} + (X_j - \\bar{X}\\_{(j)}) \\cdot \\frac{1}{n}\n",
    "$$"
   ]
  },
  {
   "cell_type": "markdown",
   "id": "47b740a5-f4db-4dfa-a30e-f5109bdb6ea9",
   "metadata": {},
   "source": [
    "- 평균은 이상치에 취약하고 다른 데이터들의 유의성을 떨어트리기 때문에 개별적인 처리가 필요하다. 하지만 홍수나 가뭄과 같은 데이터에서는 이상치처럼 보일 수 있는 데이터가 실제로 유효하고 중요한 데이터인 경우가 많기 때문에 처리에 유의해야 한다."
   ]
  },
  {
   "cell_type": "markdown",
   "id": "ec834796-a879-48b9-a665-2fd871d3d00d",
   "metadata": {},
   "source": [
    "![이상치 예시](https://github.com/WooHyeok-Moon/Axiomize/assets/76620002/c821921d-c59d-4b44-bc2f-2590d2bf4b7b)"
   ]
  },
  {
   "cell_type": "markdown",
   "id": "134e14e6-f9bb-409e-8b9e-a71df4663a10",
   "metadata": {},
   "source": [
    "위 그림처럼 비정상적으로 큰 하나의 데이터가 평균에 큰 영향을 미친다. 마치 지렛대와 비슷해보임.."
   ]
  },
  {
   "cell_type": "markdown",
   "id": "b00db1e4-7960-4fc5-b3b2-a9dd4f615c8b",
   "metadata": {},
   "source": [
    "#### 1.1.4) 생각해볼 것"
   ]
  },
  {
   "cell_type": "markdown",
   "id": "025fd59f-cfa9-4b5c-9721-b1e3d8252e24",
   "metadata": {},
   "source": [
    "- 평균을 통해 데이터의 핵심적인 정보를 얻을 수 있지만, 수질 데이터와 같이 자연적, 인위적 영향으로 인한 이상치가 존재할 수 있는 데이터에서는 전적으로 신뢰해서는 안 된다.\n",
    "- 수역으로 유입되는 총 성분과 같이 데이터의 전체 합에 관심 있는 경우에는 평균이 정말 좋은 대표값이지만, 일반적인 경우 중앙값이나 최빈값이 outlier에 더 robust하다."
   ]
  },
  {
   "cell_type": "markdown",
   "id": "2a7826f1-db0f-406d-9f34-fa5f8fb180d1",
   "metadata": {},
   "source": [
    "### 1.2) 중앙값(The Median)"
   ]
  },
  {
   "cell_type": "markdown",
   "id": "6b34a71a-cab7-4cd1-8a6f-de9f93888444",
   "metadata": {},
   "source": [
    "#### 1.2.1) 정의 및 계산"
   ]
  },
  {
   "cell_type": "markdown",
   "id": "87f6195a-c226-4228-bb24-bbe64f55a2c5",
   "metadata": {},
   "source": [
    "중앙값은 데이터를 sorting하여 나열했을 때 중간 위치에 해당하는 값이다."
   ]
  },
  {
   "cell_type": "markdown",
   "id": "945f0772-55d3-4565-b023-fef0ccec3b18",
   "metadata": {},
   "source": [
    "$$\n",
    "median = P_{0.50} =\n",
    "\\begin{cases}\n",
    "X(\\frac{n+1}{2}) &\\text{when $n$ is odd}\\\\\\\\\n",
    "\\frac{1}{2}\\Big(X(\\frac{n}{2})+X(\\frac{n}{2}+1)\\Big) &\\text{when $n$ is even}\n",
    "\\end{cases}\n",
    "$$"
   ]
  },
  {
   "cell_type": "markdown",
   "id": "1916b176-e7bf-4cb8-b1d8-96f2c7bd0e4d",
   "metadata": {},
   "source": [
    "- sample size가 짝수인 경우 중간 두 값의 평균으로 계산된다.\n",
    "- 중앙값은 정렬된 데이터에서 순서를 기준으로 데이터를 추출하기 때문에 이상치에 robust하다."
   ]
  },
  {
   "cell_type": "markdown",
   "id": "c94efc43-222e-45f0-8810-58e0ce34e825",
   "metadata": {},
   "source": [
    "#### 1.2.2) 이상치에 대한 저항"
   ]
  },
  {
   "cell_type": "code",
   "execution_count": 8,
   "id": "737f5d3c-efce-4afd-bcb9-4fe8c6b0b1d5",
   "metadata": {},
   "outputs": [
    {
     "name": "stdout",
     "output_type": "stream",
     "text": [
      "median of A: 9.0\n",
      "median of B: 9.0\n"
     ]
    }
   ],
   "source": [
    "import numpy as np\n",
    "A = np.array([2, 4, 8, 9, 11, 11, 12])\n",
    "B = np.array([2, 4, 8, 9, 11, 11, 120])\n",
    "print(f'median of A: {np.median(A)}')\n",
    "print(f'median of B: {np.median(B)}')"
   ]
  },
  {
   "cell_type": "markdown",
   "id": "7295c009-3475-4934-b4f1-3093db581f48",
   "metadata": {},
   "source": [
    "위 예시를 보면 B에 120이라는 이상치가 들어있으나 중앙값은 그대로 9가 튀어나온다."
   ]
  },
  {
   "cell_type": "markdown",
   "id": "40b4892d-ca70-4ea7-8635-efefb35da013",
   "metadata": {},
   "source": [
    "#### 1.2.3) 특정 상황에서 평균보다 선호되는 이유"
   ]
  },
  {
   "cell_type": "markdown",
   "id": "f2203de4-af1a-4421-9698-f3cd1a465a5f",
   "metadata": {},
   "source": [
    "- 데이터를 요약할 때, 일반적으로 평균보다 중앙값이 안정적인 값을 제공한다.\n",
    "- 예를 들어 다양한 개울의 화학 물질 농도를 측정한다고 할 때, 중앙값을 사용하면 농도가 비정상적으로 높은 하나의 개울이 있다고 하더라도 전체적인 추정치에 크게 영향을 미치지 않는다."
   ]
  },
  {
   "cell_type": "markdown",
   "id": "23c945e9-8f57-4b07-b563-9355e0ec11cd",
   "metadata": {},
   "source": [
    "### 1.3) 중심을 측정하는 다른 대표값들"
   ]
  },
  {
   "cell_type": "markdown",
   "id": "2c69ea85-d2c0-44f2-9d11-5a706d5a36a3",
   "metadata": {},
   "source": [
    "#### 1.3.1) 최빈값(Mode)"
   ]
  },
  {
   "cell_type": "markdown",
   "id": "0f6eed49-f7e2-4e7c-90d0-2065a1b57e3b",
   "metadata": {},
   "source": [
    "- 정의: 데이터에서 가장 자주 나온 값을 의미하며, [^1]nominal data에서 사용할 수 있는 유일한 대표값이다.\n",
    "- land cover type과 같이 일반적인 인간의 행동이나 선호도를 이해하는 데에 유용하다.\n",
    "- 하나의 dataset에 최빈값이 하나 존재하면 unimodal, 둘 존재하면 bimodal, 이보다 여러 개 존재하면 multimodal이라고 한다."
   ]
  },
  {
   "cell_type": "markdown",
   "id": "0b04b07b-b7bc-4c36-bc88-c0ac2148eb1a",
   "metadata": {},
   "source": [
    "![modal](https://github.com/WooHyeok-Moon/Axiomize/assets/76620002/e2d5245b-fa84-456e-9344-bbfff479548c)"
   ]
  },
  {
   "cell_type": "markdown",
   "id": "902f1f61-995e-462a-b3bf-aef7c78252bb",
   "metadata": {},
   "source": [
    "#### 1.3.2) 기하평균(Geometric Mean)"
   ]
  },
  {
   "cell_type": "markdown",
   "id": "2c66f899-1b19-4230-8e7f-08c6afdd99a8",
   "metadata": {},
   "source": [
    "- 정의: 각 샘플을 모두 곱해서 sample size만큼 n차 제곱근을 취한다."
   ]
  },
  {
   "cell_type": "markdown",
   "id": "274025e9-3377-462f-beda-17d6bbe30534",
   "metadata": {},
   "source": [
    "$$\n",
    "GM = \\sqrt[n]{X_1 \\cdot X_2 \\cdot \\ldots \\cdot X_n} = \\Big(\\prod_{i=1}^{n} x_i\\Big)^{\\frac{1}{n}}\n",
    "$$"
   ]
  },
  {
   "cell_type": "markdown",
   "id": "033fa9b6-c1bc-4582-912c-de2444c51bab",
   "metadata": {},
   "source": [
    "- 데이터의 로그 평균을 씌워 구한 다음 원래 단위로 변환하면 더 간단하게 구할 수 있다."
   ]
  },
  {
   "cell_type": "markdown",
   "id": "8defaa82-32e1-4c47-a8ef-3fea4f8a5d4d",
   "metadata": {},
   "source": [
    "$$\n",
    "GM = exp\\bigg(\\frac{\\sum_{i=1}^{n} Y_i}{n}\\bigg) = exp(\\bar{Y})\n",
    "$$"
   ]
  },
  {
   "cell_type": "markdown",
   "id": "8e8cf63e-ee88-476a-b070-116d4767751b",
   "metadata": {},
   "source": [
    "기하평균은 모든 데이터가 양수인 상황에서만 정의된다."
   ]
  },
  {
   "cell_type": "markdown",
   "id": "2b6925b7-faea-48fc-9c41-934eac6ae78a",
   "metadata": {},
   "source": [
    "#### 1.3.3) 가중평균(Weighted Mean)"
   ]
  },
  {
   "cell_type": "markdown",
   "id": "288be1c4-721e-48aa-9e78-aff1c0f252a7",
   "metadata": {},
   "source": [
    "- 정의: 각각의 데이터에 대한 상대적인 중요도를 반영한 평균"
   ]
  },
  {
   "cell_type": "markdown",
   "id": "6fc656af-009e-4b5d-b24c-3c68faa22ab0",
   "metadata": {},
   "source": [
    "$$\n",
    "\\bar{x}_w = \\frac{\\sum\\_{i=1}^{n} w_i x_i}{\\sum\\_{i=1}^n w_i}\n",
    "$$"
   ]
  },
  {
   "cell_type": "markdown",
   "id": "a798eb41-f009-4f0d-81d0-8667588ea3f7",
   "metadata": {},
   "source": [
    "- 예를 들어 수질 오염 데이터가 있다고 하면 수질이 오염되도록 하는 다양한 오염원들이 있을텐데, 어떤 오염원은 다른 오염원에 비해 수질을 악화시키는 정도가 크다. 이처럼 feature들이 target에 미치는 상대적인 영향을 반영할 수 있다.\n",
    "- 이러한 가중치를 적절하게 부여하는 것은 데이터의 특성을 정확하게 반영하는 데에 큰 도움이 된다."
   ]
  },
  {
   "cell_type": "markdown",
   "id": "5b4d72d8-9cdb-49b5-9d65-8e044c76d59d",
   "metadata": {},
   "source": [
    "# 2) 변동성 측정"
   ]
  },
  {
   "cell_type": "markdown",
   "id": "95670524-1886-4d87-84af-3cb8bbddf76f",
   "metadata": {},
   "source": [
    "데이터의 퍼진 정도를 수치화한 것"
   ]
  },
  {
   "cell_type": "markdown",
   "id": "c2c3d486-8f01-4e6e-b34b-54f3c1fd85dc",
   "metadata": {},
   "source": [
    "환경 데이터에서 퍼진 정도를 이해하는 것은 생태계의 변동성, 인간 활동이 환경에 미치는 영향, 환경을 보존하려는 노력의 효과 등을 정량적으로 해석하는 데에 큰 도움이 된다. "
   ]
  },
  {
   "cell_type": "markdown",
   "id": "b8ca8b03-d58b-4f03-bf8c-c085d9e86c79",
   "metadata": {},
   "source": [
    "## 2.1) 고전적인 방법들"
   ]
  },
  {
   "cell_type": "markdown",
   "id": "6386bca8-15d0-44ae-ae40-beab2f6d0885",
   "metadata": {},
   "source": [
    "### 2.1.1) 범위"
   ]
  },
  {
   "cell_type": "markdown",
   "id": "5f6f7fae-5322-470e-8672-594e89d88801",
   "metadata": {},
   "source": [
    "- 가장 단순한 형태의 변동성 측정 방법으로, 특정 계절의 온도 범위와 같이 양 극단 사이의 범위를 나타낸다."
   ]
  },
  {
   "cell_type": "markdown",
   "id": "8cc92062-0f03-49ae-8b02-e7b0b8472310",
   "metadata": {},
   "source": [
    "$$\n",
    "Range = Max(X) - Min(X)\n",
    "$$"
   ]
  },
  {
   "cell_type": "markdown",
   "id": "540da47c-32cc-4aa0-8192-97e08cbbf3ed",
   "metadata": {},
   "source": [
    "산불이나 화재와 같은 extreme한 사건이 존재하는 데이터에서, 해석에 부정적인 영향을 끼칠 수 있다."
   ]
  },
  {
   "cell_type": "markdown",
   "id": "32e52780-41af-415f-8bf2-ddfc85a1c094",
   "metadata": {},
   "source": [
    "#### 2.1.2) 분산"
   ]
  },
  {
   "cell_type": "markdown",
   "id": "6d854902-2459-4d6c-9c36-b0fe8ba681ae",
   "metadata": {},
   "source": [
    "- 평균에 편차제곱(squared deviation)을 취하여 퍼진 정도를 구할 수 있다."
   ]
  },
  {
   "cell_type": "markdown",
   "id": "92342701-d0f6-431b-bb68-ed51da62d44a",
   "metadata": {},
   "source": [
    "$$\n",
    "s^2 = \\frac{\\sum_{i=1}^{n} (X_i - \\bar{X})^2}{n-1}\n",
    "$$"
   ]
  },
  {
   "cell_type": "markdown",
   "id": "d3f879ee-d13a-4eef-966a-e42630382aca",
   "metadata": {},
   "source": [
    "수자원 확보를 위한 하천 방류량의 변동성 측정에 사용할 수 있음"
   ]
  },
  {
   "cell_type": "markdown",
   "id": "a023cb6d-0d5b-4a9d-adcc-d18f7e557711",
   "metadata": {},
   "source": [
    "환경 데이터는 skewed data인 경우가 많은데, 이 경우 변환을 한 번 거쳐야 하기 때문에 데이터가 정규분포를 따를 때 효율적이다."
   ]
  },
  {
   "cell_type": "markdown",
   "id": "6ab68986-aa5a-421f-b109-fd312eef0ddc",
   "metadata": {},
   "source": [
    "#### 2.1.3) 표준편차"
   ]
  },
  {
   "cell_type": "markdown",
   "id": "a140d3c1-52ef-4a30-a595-2a402869ae22",
   "metadata": {},
   "source": [
    "분산은 단위가 데이터의 제곱 꼴이기 때문에 root를 씌워 조금 더 이해하기 쉬운 단위로 만들어준다."
   ]
  },
  {
   "cell_type": "markdown",
   "id": "d288bee0-6abc-4fc6-a2b8-6fae0393ec30",
   "metadata": {},
   "source": [
    "$$\n",
    "s = \\sqrt{s^2}\n",
    "$$"
   ]
  },
  {
   "cell_type": "markdown",
   "id": "af4d49a2-78ea-4b42-88a6-662bd9d833be",
   "metadata": {},
   "source": [
    "[^1]: 수치형 데이터와 달리 하나의 이름에 데이터를 분류할 수 있는 데이터. e.g.) 홍팀 청팀 백팀"
   ]
  }
 ],
 "metadata": {
  "kernelspec": {
   "display_name": "Python 3 (ipykernel)",
   "language": "python",
   "name": "python3"
  },
  "language_info": {
   "codemirror_mode": {
    "name": "ipython",
    "version": 3
   },
   "file_extension": ".py",
   "mimetype": "text/x-python",
   "name": "python",
   "nbconvert_exporter": "python",
   "pygments_lexer": "ipython3",
   "version": "3.8.17"
  }
 },
 "nbformat": 4,
 "nbformat_minor": 5
}
