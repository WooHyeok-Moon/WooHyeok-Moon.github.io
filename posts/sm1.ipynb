{
 "cells": [
  {
   "cell_type": "markdown",
   "id": "fae63e6d-61cd-4bf8-8033-88ca53ea1e30",
   "metadata": {
    "tags": []
   },
   "source": [
    "---\n",
    "author: \"Woohyeok Moon\"\n",
    "date: 2024-02-05\n",
    "title: 표본공간과 사건\n",
    "categories: 수리통계학\n",
    "tags: [표본공간, 벤 다이어그램, 드 모르간 법칙]\n",
    "showtoc: false\n",
    "weight: 10\n",
    "---"
   ]
  },
  {
   "cell_type": "markdown",
   "id": "bf7cdc33-45ae-46c2-a6fe-f03084b5987b",
   "metadata": {},
   "source": [
    "# 1. 확률이론"
   ]
  },
  {
   "cell_type": "markdown",
   "id": "6a3447b6-40d1-4daf-bf54-3248944e9587",
   "metadata": {},
   "source": [
    "## 1.1 표본공간과 사건"
   ]
  },
  {
   "cell_type": "markdown",
   "id": "d8f168d9-6c7c-46a8-9db4-1ffc37c2501d",
   "metadata": {},
   "source": [
    "### 키워드\n",
    "\n",
    "- 실험: 어떤 현상의 관찰결과를 얻기 위한 과정\n",
    "- 표본공간($S$): 모든 관찰 가능한 결과의 집합\n",
    "- 사건: 표본공간의 부분집합"
   ]
  },
  {
   "cell_type": "markdown",
   "id": "a7c52809-bf44-4d9a-b7a5-eace0a40f686",
   "metadata": {},
   "source": [
    "### 정의 1.1\n",
    "\n",
    "사건 $A$와 $B$가 표본공간 $S$상에 정의되었다고 하자.\n",
    "- 사건 $A$와 $B$가 동시에 속하는 사건을 $A$와 $B$의 공통부분이라고 하고 $A \\cap B$라고 표기한다.\n",
    "- 사건 $A$ 또는 $B$에 속하는 사건을 $A$와 $B$의 합이라고 하고 $A \\cup B$로 표기한다."
   ]
  },
  {
   "cell_type": "markdown",
   "id": "da35dc10-a8e9-4cd1-a32f-00ef7dfbd4a0",
   "metadata": {},
   "source": [
    "### `예 1.1`\n",
    "\n",
    "동전을 3회 던지는 실험에서 앞면을 $H$, 뒷면을 $T$로 표시하면 표본공간은\n",
    "$$\n",
    "S = \\{\\ HHH,\\ HHT,\\ HTH,\\ THH,\\ HTT,\\ THT,\\ TTH,\\ TTT\\ \\}\n",
    "$$\n",
    "이고, '2회 앞면이 나오는 사건'은\n",
    "$$\n",
    "A = \\{\\ HHT,\\ HTH,\\ THH\\ \\}\n",
    "$$\n",
    "이다."
   ]
  },
  {
   "cell_type": "markdown",
   "id": "3adc7473-1284-47c6-894e-91de79a59a97",
   "metadata": {},
   "source": [
    "### `예 1.2`\n",
    "\n",
    "[예 1.1](#예-11)의 실험에서 '앞면이 나오는 횟수'를 고려하면 표본공간은\n",
    "$$\n",
    "S = \\{\\ 0,\\ 1,\\ 2,\\ 3\\ \\}\n",
    "$$\n",
    "이 되고, 이때 '최소한 1번 앞면이 나오는 사건'은\n",
    "$$\n",
    "A = \\{\\ 1,\\ 2,\\ 3\\ \\}\n",
    "$$\n",
    "이다."
   ]
  },
  {
   "cell_type": "markdown",
   "id": "61987db2-b4ee-4079-ac7d-a4eaf4aa83db",
   "metadata": {},
   "source": [
    "### `예 1.3`\n",
    "\n",
    "한 개의 동전을 뒷면이 나올 떄까지 던질 때의 표본공간은\n",
    "$$\n",
    "S = \\{\\ T,\\ HT,\\ HHT,\\ HHHT,\\ \\cdots\\ \\}\n",
    "$$\n",
    "가 된다. 이처럼 표본공간의 원소가 무한개일 수도 있다. 이때 '3회째 뒷면이 나오는 사건'은\n",
    "$$\n",
    "A = \\{\\ HHT\\ \\}\n",
    "$$\n",
    "이다."
   ]
  },
  {
   "cell_type": "markdown",
   "id": "37634900-bf43-494f-a2f0-6e9dfca568f1",
   "metadata": {},
   "source": [
    "### `예 1.4`\n",
    "\n",
    "어떤 기계의 수명시간에 대한 측정을 할 때, 가능한 관찰값은 음이 아닌 실수이다. 따라서 표본공간은\n",
    "$$\n",
    "S = \\{\\ x\\ |\\ 0\\ \\le\\  x\\ < \\infty\\ \\}\n",
    "$$\n",
    "여기서 '20시간 이상 작동하는 사건'은\n",
    "$$\n",
    "A = \\{\\ x\\ |\\ x\\ \\ge\\ 20 \\ \\}\n",
    "$$\n",
    "이다."
   ]
  },
  {
   "cell_type": "markdown",
   "id": "59a0c320-d67a-4b54-9144-d23bd1030c97",
   "metadata": {},
   "source": [
    "### `예 1.5`\n",
    "\n",
    "주사위를 1회 던져 나오는 눈의 수를 관찰하였다고 할 때, 표본공간은\n",
    "$$ S = \\{\\ 1,\\ 2,\\ 3,\\ 4,\\ 5,\\ 6,\\ \\}$$\n",
    "이 된다. 사건 $A$를 짝수의 눈이 나오는 경우로, $B$를 3의 배수가 나오는 경우로 정의하면,\n",
    "$$ A = \\{\\ 2,\\ 4,\\ 6\\ \\}\\quad B = \\{\\ 3,\\ 6\\ \\} $$\n",
    "으로 표현된다. 이 경우 $A$와 $B$의 공통부분과 합은 각각\n",
    "$$\n",
    "\\begin{align}\n",
    "A \\cap B = \\{\\ 6\\ \\} \\\\\\\n",
    "A \\cup B = \\{\\ 2,\\ 3,\\ 4,\\ 6\\ \\} \\\\\\\n",
    "\\end{align}\n",
    "$$\n",
    "\n"
   ]
  },
  {
   "cell_type": "markdown",
   "id": "2e525c8b-521d-4cc4-8e52-f40da7a5a4c0",
   "metadata": {
    "tags": []
   },
   "source": [
    "### 정의 1.2\n",
    "동일 표본공간 $S$상에 정의된 두 사건 $A$와 $B$의 공통부분이 없을 때, 즉 $A \\cap B = \\varnothing$이면 두 사건 $A$와 $B$는 상호배반이라고 한다."
   ]
  },
  {
   "cell_type": "markdown",
   "id": "04439219-be68-42b0-b047-00570da7afd3",
   "metadata": {
    "tags": []
   },
   "source": [
    "### `예 1.6`\n",
    "[예 1.1](#예-11)에서 '최소한 한 번의 앞면'이 나오는 사건과 '모두 뒷면'이 나오는 사건은 공통부분이 없으므로 상호배반이다."
   ]
  },
  {
   "cell_type": "markdown",
   "id": "8240427f-063e-430f-b1fd-4af2a110dcbc",
   "metadata": {
    "tags": []
   },
   "source": [
    "### 정의 1.3\n",
    "사건 $A$가 표본공간 $S$상에 정의되어 있을 때, $A$에 포함되지 않는 모든 $S$의 원소의 집합을 $A$의 여사건이라고 하며 $A^c$로 표기한다."
   ]
  },
  {
   "cell_type": "markdown",
   "id": "b3d7de5b-6288-4af5-a344-9e9e1857c903",
   "metadata": {},
   "source": [
    "### `예 1.7`\n",
    "[예 1.5](#예-15)에서 '짝수의 눈'이 나오는 사건의 여사건은 '홀수의 눈'이 나오는 사건이 된다."
   ]
  },
  {
   "cell_type": "markdown",
   "id": "975721f1-ed99-4c62-a346-fe399aa212ea",
   "metadata": {},
   "source": [
    "---"
   ]
  },
  {
   "cell_type": "markdown",
   "id": "a233e51c-7834-4dd2-b063-f89eb11a04c4",
   "metadata": {},
   "source": [
    "두 개 이상의 사건들 사이의 관계가 때로는 복잡하며, 이때는 벤 다이어그램들을 활용하면 편리하다.  \n",
    "$A$와 $B$의 합 $A \\cup B$와 공통부분 $A \\cap B$는 다음과 같다."
   ]
  },
  {
   "cell_type": "markdown",
   "id": "0674a46c-9d94-481f-9e35-611a8dcd7d83",
   "metadata": {},
   "source": [
    "{{< collapse summary=\"show code\" >}}"
   ]
  },
  {
   "cell_type": "code",
   "execution_count": 5,
   "id": "815af012-1cca-49d5-b065-a220c4cf9e3f",
   "metadata": {
    "tags": []
   },
   "outputs": [
    {
     "data": {
      "image/png": "[encoded data removed]",
      "text/plain": [
       "<Figure size 800x200 with 2 Axes>"
      ]
     },
     "metadata": {},
     "output_type": "display_data"
    }
   ],
   "source": [
    "import numpy as np\n",
    "from matplotlib import pyplot as plt\n",
    "from matplotlib import font_manager, rc\n",
    "import matplotlib\n",
    "font_name = font_manager.FontProperties(fname=\"c:/Windows/Fonts/malgun.ttf\").get_name()\n",
    "\n",
    "rc('font', family=font_name)\n",
    "\n",
    "matplotlib.rcParams['axes.unicode_minus'] = False\n",
    "\n",
    "fig, ax = plt.subplots(1, 2, figsize=(8,2))\n",
    "\n",
    "theta = np.linspace(0, 2 * np.pi, 1000)\n",
    "\n",
    "radius = 7.5\n",
    "\n",
    "a1 = radius * np.cos(theta) - 5\n",
    "a2 = radius * np.sin(theta)\n",
    "\n",
    "b1 = radius * np.cos(theta) + 5\n",
    "b2 = radius * np.sin(theta)\n",
    "ax[0].plot(a1, a2, color='black')\n",
    "ax[0].plot(b1, b2, color='black')\n",
    "ax[0].fill_between(a1, a2, color = 'gray')\n",
    "ax[0].fill_between(b1, b2, color = 'gray')\n",
    "ax[0].set(xlim=(-17.5, 17.5), ylim=(-10, 10))\n",
    "ax[0].set_title(r\"A $\\cup$ B\")\n",
    "ax[0].text(-6, 0, 'A')\n",
    "ax[0].text(5, 0, 'B')\n",
    "ax[0].tick_params(left = False, right = False , labelleft = False , \n",
    "                labelbottom = False, bottom = False)\n",
    "\n",
    "ax[1].plot(a1, a2, color='black')\n",
    "ax[1].plot(b1, b2, color='black')\n",
    "ax[1].fill_between(a1[a1>0], a2[a1>0], color = 'gray')\n",
    "ax[1].fill_between(b1[b1<0], b2[b1<0], color = 'gray')\n",
    "ax[1].set(xlim=(-17.5, 17.5), ylim=(-10, 10))\n",
    "ax[1].set_title(r\"A $\\cap$ B\")\n",
    "ax[1].text(-6, 0, 'A')\n",
    "ax[1].text(5, 0, 'B')\n",
    "ax[1].tick_params(left = False, right = False , labelleft = False , \n",
    "                labelbottom = False, bottom = False)\n",
    "plt.show()"
   ]
  },
  {
   "cell_type": "markdown",
   "id": "f520e8aa-9d4b-446f-82d5-a317a18e5951",
   "metadata": {},
   "source": [
    "{{< /collapse >}}"
   ]
  },
  {
   "cell_type": "markdown",
   "id": "beabcf0c-ed41-4a6b-9465-83d4b1c064a9",
   "metadata": {},
   "source": [
    "### 드 모르간 법칙\n",
    "$$\n",
    "(A \\cup B)^c = A^c \\cap B^c\\\\\n",
    "(A \\cap B)^c = A^c \\cup B^c\n",
    "$$"
   ]
  },
  {
   "cell_type": "markdown",
   "id": "5eb2a7fe-0fdb-4565-9906-0813d0cf6eeb",
   "metadata": {},
   "source": [
    "{{< collapse summary=\"show code\" >}}"
   ]
  },
  {
   "cell_type": "code",
   "execution_count": 18,
   "id": "89eafb77-3c9f-4de4-bad3-b5bb7abdc45c",
   "metadata": {
    "tags": []
   },
   "outputs": [
    {
     "data": {
      "image/png": "[encoded data removed]",
      "text/plain": [
       "<Figure size 800x200 with 2 Axes>"
      ]
     },
     "metadata": {},
     "output_type": "display_data"
    }
   ],
   "source": [
    "fig, ax = plt.subplots(1, 2, figsize=(8,2))\n",
    "theta = np.linspace(0, 2 * np.pi, 1000)\n",
    "\n",
    "radius = 7.5\n",
    "\n",
    "a1 = radius * np.cos(theta) - 5\n",
    "a2 = radius * np.sin(theta)\n",
    "\n",
    "b1 = radius * np.cos(theta) + 5\n",
    "b2 = radius * np.sin(theta)\n",
    "ax[0].patch.set_facecolor('gray')\n",
    "ax[0].plot(a1, a2, color='black')\n",
    "ax[0].plot(b1, b2, color='black')\n",
    "ax[0].fill_between(a1, a2, color = 'white')\n",
    "ax[0].fill_between(b1, b2, color = 'white')\n",
    "ax[0].set(xlim=(-17.5, 17.5), ylim=(-10, 10))\n",
    "ax[0].set_title(r\"$(A \\cup B)^c = A^c \\cap B^c$\")\n",
    "ax[0].text(-6, 0, 'A')\n",
    "ax[0].text(5, 0, 'B')\n",
    "ax[0].tick_params(left = False, right = False , labelleft = False , \n",
    "                labelbottom = False, bottom = False)\n",
    "\n",
    "ax[1].patch.set_facecolor('gray')\n",
    "ax[1].plot(a1, a2, color='black')\n",
    "ax[1].plot(b1, b2, color='black')\n",
    "ax[1].fill_between(a1[a1>0]-0.3, a2[a1>0], color = 'white')\n",
    "ax[1].fill_between(b1[b1<0], b2[b1<0], color = 'white')\n",
    "ax[1].set(xlim=(-17.5, 17.5), ylim=(-10, 10))\n",
    "ax[1].set_title(r\"$(A \\cap B)^c = A^c \\cup B^c$\")\n",
    "ax[1].text(-6, 0, 'A')\n",
    "ax[1].text(5, 0, 'B')\n",
    "ax[1].tick_params(left = False, right = False , labelleft = False , \n",
    "                labelbottom = False, bottom = False)\n",
    "plt.show()"
   ]
  },
  {
   "cell_type": "markdown",
   "id": "18ae4b0e-9ec2-4621-a7ff-8d391205949a",
   "metadata": {},
   "source": [
    "{{< /collapse >}}"
   ]
  }
 ],
 "metadata": {
  "kernelspec": {
   "display_name": "Python 3 (ipykernel)",
   "language": "python",
   "name": "python3"
  },
  "language_info": {
   "codemirror_mode": {
    "name": "ipython",
    "version": 3
   },
   "file_extension": ".py",
   "mimetype": "text/x-python",
   "name": "python",
   "nbconvert_exporter": "python",
   "pygments_lexer": "ipython3",
   "version": "3.8.17"
  }
 },
 "nbformat": 4,
 "nbformat_minor": 5
}
