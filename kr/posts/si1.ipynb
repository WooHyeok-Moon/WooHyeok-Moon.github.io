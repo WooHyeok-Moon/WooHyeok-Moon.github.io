{
 "cells": [
  {
   "cell_type": "markdown",
   "id": "9f0e365a-93a8-4d00-a73f-b3ae553428f2",
   "metadata": {
    "tags": []
   },
   "source": [
    "---\n",
    "author: \"Woohyeok Moon\"\n",
    "date: 2024-03-14\n",
    "title: 환경 데이터 종류\n",
    "categories: 환경 빅데이터 분석 및 통계 추론\n",
    "tags: [time-series data, spatial data, spatio-temporal data]\n",
    "showtoc: false\n",
    "weight: 10\n",
    "---"
   ]
  },
  {
   "cell_type": "markdown",
   "id": "19576379-d1eb-474a-b94d-86f74a9a062b",
   "metadata": {},
   "source": [
    "# Basics of Environmental Data"
   ]
  },
  {
   "cell_type": "markdown",
   "id": "fcf42288-3e1a-4c36-9473-cdeab36b8c4b",
   "metadata": {},
   "source": [
    "## 1) 환경 데이터 특징"
   ]
  },
  {
   "cell_type": "markdown",
   "id": "bae6d270-120c-4989-8cbc-70d47bf55f5b",
   "metadata": {},
   "source": [
    "### 1.1) 시계열 데이터 (Time-series data)"
   ]
  },
  {
   "cell_type": "markdown",
   "id": "540a583c-eab6-4fe8-9f09-c107ca5ebd6f",
   "metadata": {},
   "source": [
    "continous한 시간 간격에 따른 데이터. 시간, 일 또는 월 별 데이터와 같이 규칙적일 수도 있고, interval 자체가 불규칙적일 수도 있다."
   ]
  },
  {
   "attachments": {},
   "cell_type": "markdown",
   "id": "0656c3bc-bc18-4012-95cb-ae624c2b20e1",
   "metadata": {},
   "source": [
    "예시:\n",
    "- 계절, 연 단위의 강우량 변화\n",
    "- 강, 호수, 댐 등의 수위\n",
    "- 호수나 시냇물의 유량\n",
    "- pH, 혼탁도, 오염도 등과 같은 수질"
   ]
  },
  {
   "attachments": {},
   "cell_type": "markdown",
   "id": "0a44fc43-e3cc-44cc-8999-f79434097559",
   "metadata": {},
   "source": [
    "시계열 데이터 특성:\n",
    "- 시간 종속성(Temporal dependency): 일반적인 데이터와 다르게 시계열 데이터는 고려해야 할 X(독립 변수) 시간 경과에 따른 특징이 존재하며, 이를 통해 유용한 정보를 얻을 수 있다. 하지만 이러한 특징이 결측치, 노이즈, 계절성, 추세 및 인과관계 처리와 같은 feature engineering에 어려움을 줄 수도 있다. ([How to handle temporal dependencies in feature engineering](https://www.linkedin.com/advice/1/how-can-you-handle-temporal-dependencies-feature))\n",
    "- 계절성(Seasonality): 계절에 따른 반복성 또는 주기가 존재한다.\n",
    "- 추세(Trend): 특정 지역의 지하수가 점진적으로 고갈되는 것과 같이, 시간 경과에 따른 데이터의 **장기적인** 추세가 존재한다."
   ]
  },
  {
   "cell_type": "markdown",
   "id": "2eaebee3-f570-497c-b5fb-afd5969388be",
   "metadata": {},
   "source": [
    "### 1.2) 공간 데이터(Spatial Data)"
   ]
  },
  {
   "cell_type": "markdown",
   "id": "84279bff-ee77-4d12-97af-4bee0f9e4120",
   "metadata": {},
   "source": [
    "지리적, 공간적 정보를 포함한 데이터. 지구상의 특정한 위치에서 일어나는 현상을 표현하고 분석하는 데에 쓰인다."
   ]
  },
  {
   "cell_type": "markdown",
   "id": "a40edd20-8a8f-46d4-98a1-c1debef64080",
   "metadata": {},
   "source": [
    "예시:\n",
    "- 강, 호수 및 대수층($\\approx$지하수층, 'aquifers' in English)\n",
    "- 각 토지의 쓰임새와 그로 인해 발생하는 주변 수질 또는 수위의 변화\n",
    "- [^1]infrastructure 건설 시의 기대 효과 분석\n",
    "- 토지의 침식 및 퇴적"
   ]
  },
  {
   "cell_type": "markdown",
   "id": "44517dc7-9f26-48dd-908b-fabad35bc26a",
   "metadata": {},
   "source": [
    "공간 데이터 특성:\n",
    "- 위치(Location)는 좌표(위도 및 경도) 또는 기타 지리적 척도를 통해 표현된다.\n",
    "- Attribute(설명변수) 정보는 [^2]LULC(Land Use Land Cover)나 수질을 통해 표현한다. (보통 map에 color로 구분)\n",
    "- 날짜의 경과에 따른 해수면의 변화\n",
    "- 공간 관계성: 각 지역 간 서로 어떤 관계에 있는지를 나타내는 정보. e.g. 인접(adjacency): 서로 접해있는가, 포함(containment): A 지역이 B 지역을 포함하고 있는가"
   ]
  },
  {
   "cell_type": "markdown",
   "id": "670266dd-c541-4673-8ba6-e3825a5ad799",
   "metadata": {},
   "source": [
    "### 1.3) 시공간 데이터(Spatio-Temporal Data)\n",
    "\n",
    "시간적, 공간적 정보를 모두 담고 있는 데이터. 시공간에 영향을 받는 환경 현상을 역동적으로 보여준다. 복잡한 환경 현상을 이해하는 데에 유용하다."
   ]
  },
  {
   "cell_type": "markdown",
   "id": "35768a2f-1a3a-48f3-927e-fd449212c115",
   "metadata": {},
   "source": [
    "예시:\n",
    "- 계절, 연도별 강수량 패턴. 현재 NASA에서는 [^3]GPM을 수행하고 있다.\n",
    "- 시간 경과에 따른 토지 사용 방식의 변화\n",
    "- 시간 경과에 따른 각 유역(watershed)의 수질 변화\n",
    "- 수온 및 수질 변화에 따른 수상생물의 계절 단위 이동"
   ]
  },
  {
   "cell_type": "markdown",
   "id": "43729f1b-e167-4bd9-9fe6-7c7e5111366e",
   "metadata": {},
   "source": [
    "시공간 데이터 특성:\n",
    "- Dynamic Location Information: 특정 현상이 시간이 지남에 따라 어디로 이동하는지 역동적으로 파악 가능하다. (focus on phenomenon)\n",
    "- Temporal Changes: 특정 지역에서 시간이 지남에 따라 어떤 현상이 발생하는지 파악 가능하다. (focus on location)\n",
    "- Complex Data Structure: 시간과 공간이 모두 포함된 고차원 데이터이기 때문에 정교한 분석 기법이 필요하다."
   ]
  },
  {
   "cell_type": "markdown",
   "id": "0eea7ba8-8e80-4343-bdd6-83cca8824aaa",
   "metadata": {},
   "source": [
    "### `footnote`\n",
    "\n",
    "[^1]: 사회적 생산 기반. 또는, 경제 활동의 기반을 형성하는 기초적인 시설. 댐·도로·항만·발전소·통신 시설 등의 산업 기반 및 학교·병원·공원 등의 사회 복지·환경 시설이 이에 해당함. 인프라.  \n",
    "[^2]: 어떤 종류의 토지가 어떻게 쓰이는지를 나타내는 지도 = LULC map  \n",
    "[^3]: GPM(Global Precipitation Measurement Mission): 인공위성을 통해 전 세계의 강수량을 측정하는 mission"
   ]
  }
 ],
 "metadata": {
  "kernelspec": {
   "display_name": "Python 3 (ipykernel)",
   "language": "python",
   "name": "python3"
  },
  "language_info": {
   "codemirror_mode": {
    "name": "ipython",
    "version": 3
   },
   "file_extension": ".py",
   "mimetype": "text/x-python",
   "name": "python",
   "nbconvert_exporter": "python",
   "pygments_lexer": "ipython3",
   "version": "3.9.18"
  }
 },
 "nbformat": 4,
 "nbformat_minor": 5
}
