{
 "cells": [
  {
   "cell_type": "markdown",
   "id": "de38ecae-33b9-44d6-b5bb-20deb08cecb9",
   "metadata": {
    "tags": []
   },
   "source": [
    "---\n",
    "author: \"Woohyeok Moon\"\n",
    "date: 2024-02-06\n",
    "title: 마크다운(markdown) KaTex 공식 정렬 시 번호 제거\n",
    "categories: 마크다운\n",
    "tags: [KaTex]\n",
    "showtoc: false\n",
    "weight: 10\n",
    "---"
   ]
  },
  {
   "cell_type": "markdown",
   "id": "9adfeeec-84a7-4708-aef9-ad397f9b1330",
   "metadata": {},
   "source": [
    "마크다운에서 아래와 같이 식을 정렬하고 싶을 때가 있다."
   ]
  },
  {
   "cell_type": "markdown",
   "id": "89d1f02d-6c68-4cd0-9434-bd8f3be6210f",
   "metadata": {},
   "source": [
    "$$\n",
    "f(x) = ax_1 + bx_2 = cx_3 + dx_4 = ex_5 + fx_6\\\\\\\n",
    "\\downarrow\\\\\\\n",
    "\\begin{align}\n",
    "f(x) &= ax_1 + bx_2\\\\\\\n",
    "&= cx_3 + dx_4\\\\\\\n",
    "&= ex_5 + fx_6\\\\\\\n",
    "\\end{align}\n",
    "$$"
   ]
  },
  {
   "cell_type": "markdown",
   "id": "24f1a47e-e6d5-4fd9-a75a-d4202ef25755",
   "metadata": {},
   "source": [
    "이럴 땐 아래와 같이 align 기능을 사용해주면 된다."
   ]
  },
  {
   "cell_type": "markdown",
   "id": "8a17956f-ad2d-4698-a93e-d8a09216d1fc",
   "metadata": {},
   "source": [
    "```markdown\n",
    "$$\n",
    "\\begin{align}\n",
    "f(x) &= ax_1 + bx_2\\\\\\\n",
    "&= cx_3 + dx_4\\\\\\\n",
    "&= ex_5 + fx_6\\\\\\\n",
    "\\end{align}\n",
    "$$\n",
    "```"
   ]
  },
  {
   "cell_type": "markdown",
   "id": "6c4a90de-8140-4bed-bfad-7a1424e9904c",
   "metadata": {},
   "source": [
    "$$\n",
    "\\begin{align}\n",
    "f(x) &= ax_1 + bx_2\\\\\\\n",
    "&= cx_3 + dx_4\\\\\\\n",
    "&= ex_5 + fx_6\\\\\\\n",
    "\\end{align}\n",
    "$$"
   ]
  },
  {
   "cell_type": "markdown",
   "id": "81379ce9-2a9b-48be-8fab-415b72e6e95c",
   "metadata": {},
   "source": [
    "그럼 이렇게 정렬된 식 우측에 번호가 부여되는데, 등호(=)기준으로 정렬해야 하는 상황에서는 별다른 문제가 없지만 아래와 같은 상황에서는 문제가 발생한다."
   ]
  },
  {
   "cell_type": "markdown",
   "id": "62415abb-c4b0-4524-956c-8daad9ede666",
   "metadata": {},
   "source": [
    "``` markdown\n",
    "$$\n",
    "f(x) = ax_1 + bx_2 + cx_3 + dx_4 + ex_5 + fx_6\\\\\\\n",
    "\\downarrow\\\\\\\n",
    "\\begin{align}\n",
    "f(x) =& ax_1 + bx_2\\\\\\\n",
    "&+ cx_3 + dx_4\\\\\\\n",
    "&+ ex_5 + fx_6\\\\\\\n",
    "\\end{align}\n",
    "$$\n",
    "```"
   ]
  },
  {
   "cell_type": "markdown",
   "id": "9f140c3c-bcea-4ad9-93ec-57d380e2dad8",
   "metadata": {},
   "source": [
    "$$\n",
    "f(x) = ax_1 + bx_2 + cx_3 + dx_4 + ex_5 + fx_6\\\\\\\n",
    "\\downarrow\\\\\\\n",
    "\\begin{align}\n",
    "f(x) =& ax_1 + bx_2\\\\\\\n",
    "&+ cx_3 + dx_4\\\\\\\n",
    "&+ ex_5 + fx_6\\\\\\\n",
    "\\end{align}\n",
    "$$"
   ]
  },
  {
   "cell_type": "markdown",
   "id": "1c72b465-668b-4779-abd8-c24d6d6b2251",
   "metadata": {},
   "source": [
    "위와 같은 상황에서 우측의 번호를 지우고 싶을 때에는 \\tag*{}을 해당 식의 가장 앞단에 넣어주면 된다."
   ]
  },
  {
   "cell_type": "markdown",
   "id": "d1a40c72-a0b7-4857-a35b-641d660b19dc",
   "metadata": {},
   "source": [
    "```markdown\n",
    "$$\n",
    "f(x) = ax_1 + bx_2 + cx_3 + dx_4 + ex_5 + fx_6\\\\\\\n",
    "\\downarrow\\\\\\\n",
    "\\begin{align}\n",
    "f(x) =& ax_1 + bx_2\\\\\\\n",
    "\\tag*{}&+ cx_3 + dx_4\\\\\\\n",
    "\\tag*{}&+ ex_5 + fx_6\\\\\\\n",
    "\\end{align}\n",
    "$$\n",
    "```"
   ]
  },
  {
   "cell_type": "markdown",
   "id": "fb149af1-3868-43d8-b5bd-96f00f56c40e",
   "metadata": {},
   "source": [
    "$$\n",
    "f(x) = ax_1 + bx_2 + cx_3 + dx_4 + ex_5 + fx_6\\\\\\\n",
    "\\downarrow\\\\\\\n",
    "\\begin{align}\n",
    "f(x) =& ax_1 + bx_2\\\\\\\n",
    "\\tag*{}&+ cx_3 + dx_4\\\\\\\n",
    "\\tag*{}&+ ex_5 + fx_6\\\\\\\n",
    "\\end{align}\n",
    "$$"
   ]
  }
 ],
 "metadata": {
  "kernelspec": {
   "display_name": "Python 3 (ipykernel)",
   "language": "python",
   "name": "python3"
  },
  "language_info": {
   "codemirror_mode": {
    "name": "ipython",
    "version": 3
   },
   "file_extension": ".py",
   "mimetype": "text/x-python",
   "name": "python",
   "nbconvert_exporter": "python",
   "pygments_lexer": "ipython3",
   "version": "3.8.17"
  }
 },
 "nbformat": 4,
 "nbformat_minor": 5
}
