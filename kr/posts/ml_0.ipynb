{
 "cells": [
  {
   "cell_type": "markdown",
   "id": "463c7485-c068-4e07-9afd-6081a73ebe4e",
   "metadata": {},
   "source": [
    "---\n",
    "author: \"Woohyeok Moon\"\n",
    "date: 2023-07-11\n",
    "title: 머신러닝 목차\n",
    "categories: Artificial Intelligence\n",
    "tags: [Machine Learning]\n",
    "weight: 10\n",
    "---"
   ]
  },
  {
   "cell_type": "markdown",
   "id": "a3f15eed-b8cd-4e6e-ad1a-73c69639f297",
   "metadata": {},
   "source": [
    "## 1. 머신러닝의 종류"
   ]
  },
  {
   "cell_type": "markdown",
   "id": "ad32c744-da7c-4f80-adf7-efb29b6b7b4c",
   "metadata": {},
   "source": [
    "### 1.1 지도 학습"
   ]
  },
  {
   "cell_type": "markdown",
   "id": "95ebb1c4-5fea-4645-9856-40abf94c1e3c",
   "metadata": {},
   "source": [
    "### 1.2 비지도 학습"
   ]
  },
  {
   "cell_type": "markdown",
   "id": "fdf77def-503f-42fe-be79-de39c6df64fc",
   "metadata": {},
   "source": [
    "### 1.3 준지도 학습"
   ]
  },
  {
   "cell_type": "markdown",
   "id": "d3f88a63-08a2-4d0b-a337-c03fefc9c3f8",
   "metadata": {},
   "source": [
    "### 1.4 강화 학습"
   ]
  },
  {
   "cell_type": "markdown",
   "id": "eed4ee62-22ce-4684-87a3-587a7879c7dd",
   "metadata": {},
   "source": [
    "### 1.5 배치 학습"
   ]
  },
  {
   "cell_type": "markdown",
   "id": "ae56b42f-c667-48e7-b7f2-8b31927eb381",
   "metadata": {},
   "source": [
    "### 1.6 온라인 학습"
   ]
  },
  {
   "cell_type": "markdown",
   "id": "603e3401-e967-4e80-a8bb-7a71886b7162",
   "metadata": {},
   "source": [
    "### 1.7 사례 기반 학습"
   ]
  },
  {
   "cell_type": "markdown",
   "id": "864bf7c5-d713-4154-ae7c-c8aa5ce757c5",
   "metadata": {},
   "source": [
    "### 1.8 모델 기반 학습"
   ]
  },
  {
   "cell_type": "markdown",
   "id": "c3807a4a-3b41-4012-97a4-5ffe0f62d977",
   "metadata": {},
   "source": [
    "## 2. 머신러닝의 주요 도전 과제"
   ]
  },
  {
   "cell_type": "markdown",
   "id": "6b85a436-5ce4-49b9-9441-3ff2b04d608d",
   "metadata": {},
   "source": [
    "### 2.1 충분하지 않은 양의 훈련 데이터"
   ]
  },
  {
   "cell_type": "markdown",
   "id": "c209d098-4c07-4054-8800-a56c3849ad21",
   "metadata": {},
   "source": [
    "### 2.2 대표성 없는 훈련 데이터"
   ]
  },
  {
   "cell_type": "markdown",
   "id": "80c91d61-2a20-48bf-a7db-bef8fd278aaf",
   "metadata": {},
   "source": [
    "### 2.3 낮은 품질의 데이터"
   ]
  },
  {
   "cell_type": "markdown",
   "id": "7b777e04-0608-4976-953c-ff6d9b8563a9",
   "metadata": {},
   "source": [
    "### 2.4 관련 없는 특성"
   ]
  },
  {
   "cell_type": "markdown",
   "id": "a09d0efd-db9a-4c24-8ff2-b2d6f056963a",
   "metadata": {},
   "source": [
    "### 2.5 훈련 데이터 과적합"
   ]
  },
  {
   "cell_type": "markdown",
   "id": "67b9de7e-d753-4ddc-a7b1-a218830f1f6c",
   "metadata": {},
   "source": [
    "### 2.6 훈련 데이터 과소적합"
   ]
  },
  {
   "cell_type": "markdown",
   "id": "959081ac-3add-4f29-a1e9-35c85791d60f",
   "metadata": {},
   "source": [
    "## 3. 테스트와 검증"
   ]
  },
  {
   "cell_type": "markdown",
   "id": "dcc8190d-3b60-4882-a472-4c3d47fc26b2",
   "metadata": {},
   "source": [
    "### 3.1 하이퍼파라미터 튜닝과 모델 선택"
   ]
  },
  {
   "cell_type": "code",
   "execution_count": null,
   "id": "debf1cc5-ecdf-43d1-a464-fcd247196dd7",
   "metadata": {},
   "outputs": [],
   "source": []
  }
 ],
 "metadata": {
  "kernelspec": {
   "display_name": "Python 3 (ipykernel)",
   "language": "python",
   "name": "python3"
  },
  "language_info": {
   "codemirror_mode": {
    "name": "ipython",
    "version": 3
   },
   "file_extension": ".py",
   "mimetype": "text/x-python",
   "name": "python",
   "nbconvert_exporter": "python",
   "pygments_lexer": "ipython3",
   "version": "3.11.2"
  }
 },
 "nbformat": 4,
 "nbformat_minor": 5
}
