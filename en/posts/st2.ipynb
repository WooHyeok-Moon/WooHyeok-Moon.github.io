{
 "cells": [
  {
   "cell_type": "markdown",
   "id": "aca61087-2c21-4d0b-aa6a-7a295da95563",
   "metadata": {
    "tags": []
   },
   "source": [
    "---\n",
    "author: \"Woohyeok Moon\"\n",
    "date: 2024-01-10\n",
    "title: Descriptive statistics\n",
    "categories: Statistics\n",
    "tags: [Visualization]\n",
    "weight: 10\n",
    "---"
   ]
  },
  {
   "cell_type": "markdown",
   "id": "b7e70f51-05db-441c-a675-7178fa6cf095",
   "metadata": {},
   "source": [
    "# Descriptive Statistics"
   ]
  },
  {
   "cell_type": "markdown",
   "id": "6e968560-c212-4a2f-84a0-b2fcc57a367b",
   "metadata": {},
   "source": [
    "`Ways to summarize data with numbers and graphs`"
   ]
  },
  {
   "cell_type": "markdown",
   "id": "a6919978-1537-4fa1-bf71-d0fa67bb7242",
   "metadata": {},
   "source": [
    "In particular, we will look at some important principles for visualizing information."
   ]
  },
  {
   "cell_type": "markdown",
   "id": "d6e2e0e2-e2ad-4670-8d57-2acfb086af66",
   "metadata": {},
   "source": [
    "This is important because most people prefer to look at figres, rather than at numbers. Let's look at an example."
   ]
  },
  {
   "cell_type": "markdown",
   "id": "e4a7fc53-1915-4705-b389-f9dd6970f0ec",
   "metadata": {},
   "source": [
    "In January 1986, the space shuttle Challenger broke apart shortly after liftoff. The accident was caused by a part that was not designed to fly at the unusually cold temparature of 29$^\\circ$F at launch.  \n",
    "Here are the launch-temperatures of the first 25 shuttle missions (in derees F):\n",
    "66, 70, 69, 80, 68, 67, 72, 70, 70"
   ]
  },
  {
   "cell_type": "code",
   "execution_count": null,
   "id": "d47be28b-d5a3-4e7d-a710-7804dfe8c24b",
   "metadata": {},
   "outputs": [],
   "source": []
  }
 ],
 "metadata": {
  "kernelspec": {
   "display_name": "Python 3 (ipykernel)",
   "language": "python",
   "name": "python3"
  },
  "language_info": {
   "codemirror_mode": {
    "name": "ipython",
    "version": 3
   },
   "file_extension": ".py",
   "mimetype": "text/x-python",
   "name": "python",
   "nbconvert_exporter": "python",
   "pygments_lexer": "ipython3",
   "version": "3.8.17"
  }
 },
 "nbformat": 4,
 "nbformat_minor": 5
}
