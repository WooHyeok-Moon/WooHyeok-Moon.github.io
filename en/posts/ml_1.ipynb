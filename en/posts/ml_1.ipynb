{
 "cells": [
  {
   "cell_type": "markdown",
   "id": "e53f4399-f20a-4a2c-bfdd-74b8d6ac7355",
   "metadata": {},
   "source": [
    "# 머신러닝 개념"
   ]
  },
  {
   "cell_type": "markdown",
   "id": "a3f15eed-b8cd-4e6e-ad1a-73c69639f297",
   "metadata": {},
   "source": [
    "## 1. 머신러닝이란?"
   ]
  },
  {
   "cell_type": "markdown",
   "id": "2b29accf-e424-4193-aa02-ba62c465efd6",
   "metadata": {},
   "source": [
    "- 일반적 정의: 명시적인 프로그래밍 없이 컴퓨터가 학습하는 능력을 갖추게 하는 연구 분야"
   ]
  },
  {
   "cell_type": "markdown",
   "id": "ad32c744-da7c-4f80-adf7-efb29b6b7b4c",
   "metadata": {},
   "source": [
    "- 공학적 정의: "
   ]
  }
 ],
 "metadata": {
  "kernelspec": {
   "display_name": "Python 3 (ipykernel)",
   "language": "python",
   "name": "python3"
  },
  "language_info": {
   "codemirror_mode": {
    "name": "ipython",
    "version": 3
   },
   "file_extension": ".py",
   "mimetype": "text/x-python",
   "name": "python",
   "nbconvert_exporter": "python",
   "pygments_lexer": "ipython3",
   "version": "3.8.17"
  }
 },
 "nbformat": 4,
 "nbformat_minor": 5
}
