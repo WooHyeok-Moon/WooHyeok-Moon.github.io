{
 "cells": [
  {
   "cell_type": "markdown",
   "id": "3a711783-c5e9-477d-9b0e-0c911f8e3c49",
   "metadata": {
    "tags": []
   },
   "source": [
    "---\n",
    "author: \"Woohyeok Moon\"\n",
    "date: 2024-01-10\n",
    "title: Introduction\n",
    "categories: Statistics\n",
    "tags: [Introduction]\n",
    "showtoc: false\n",
    "weight: 10\n",
    "---"
   ]
  },
  {
   "cell_type": "markdown",
   "id": "b6f559ac-7417-47ff-8437-f629f0a7eb97",
   "metadata": {},
   "source": [
    "## Introduction"
   ]
  },
  {
   "cell_type": "markdown",
   "id": "df3b7f54-6b62-42da-9dfb-23cf61d9710c",
   "metadata": {},
   "source": [
    "  The amount of information and data that are becoming available to us is growing exponentially. As the amount of available data grows, so is our need to understand it."
   ]
  },
  {
   "cell_type": "markdown",
   "id": "31acac9d-ffa2-4687-a49b-4489b2a7beb3",
   "metadata": {},
   "source": [
    "> If you torture the data long enough. it will confess to anything.  \n",
    "\n",
    "\\- Ronald Coase"
   ]
  },
  {
   "cell_type": "markdown",
   "id": "558481ed-e0ce-4a3a-a48c-b8be0535809e",
   "metadata": {},
   "source": [
    "## Why statistical literacy is essential in data sceince"
   ]
  },
  {
   "cell_type": "markdown",
   "id": "7a2ca25e-294e-4a0f-9e6d-c2857ec7a54b",
   "metadata": {},
   "source": [
    "- Statistics provides the skills to access whether the data are sufficient to answer the questions at hand"
   ]
  },
  {
   "cell_type": "markdown",
   "id": "cd678806-6ded-450c-be8d-200acd6d81c5",
   "metadata": {},
   "source": [
    "- Statistics establishes a rigorous framework for quntifying uncertainty."
   ]
  },
  {
   "cell_type": "markdown",
   "id": "4fee68d1-56e8-4ce8-b4d3-14b70070a349",
   "metadata": {
    "tags": []
   },
   "source": [
    "- Statistics provides techniques for effectively communicating the findings of our analyses"
   ]
  }
 ],
 "metadata": {
  "kernelspec": {
   "display_name": "Python 3 (ipykernel)",
   "language": "python",
   "name": "python3"
  },
  "language_info": {
   "codemirror_mode": {
    "name": "ipython",
    "version": 3
   },
   "file_extension": ".py",
   "mimetype": "text/x-python",
   "name": "python",
   "nbconvert_exporter": "python",
   "pygments_lexer": "ipython3",
   "version": "3.8.17"
  }
 },
 "nbformat": 4,
 "nbformat_minor": 5
}
